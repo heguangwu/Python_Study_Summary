{
 "cells": [
  {
   "cell_type": "markdown",
   "id": "e32c2b83",
   "metadata": {},
   "source": [
    "# `Python` 基础（1）\n",
    "\n",
    "## 装饰器\n",
    "\n",
    "在学习`FastAPI` 中，相信你肯定看到`@app.get`，如果你是`Python`初学者，你肯定会比较好奇，这个定义 `HTTP` 路由的方式是如何实现的，如果我自己要实现这个东西，应该如何做。\n",
    "\n",
    "其实上述实现原理基于`Python`的装饰器语法，通过将被装饰的函数与特定的 `HTTP` 方法（`GET`）、路径（`path`）及相关配置绑定。\n",
    "\n",
    "然后，你又会好奇，装饰器到底是什么东西？**装饰器其实就是将函数传递给函数**。\n",
    "\n",
    "先看一个例子："
   ]
  },
  {
   "cell_type": "code",
   "execution_count": 8,
   "id": "bf676d9e",
   "metadata": {},
   "outputs": [],
   "source": [
    "import time\n",
    "\n",
    "\n",
    "def decorator(func):\n",
    "    def wrapper(*args, **kwargs):\n",
    "        start = time.time()\n",
    "        result = func(*args, **kwargs)\n",
    "        end = time.time()\n",
    "        print(f\"程序{func.__name__}运行时间：{end-start} 秒。\")\n",
    "    return wrapper\n",
    "\n",
    "@decorator\n",
    "def square(x):\n",
    "    return x * x"
   ]
  },
  {
   "cell_type": "code",
   "execution_count": 9,
   "id": "a7b5e89d",
   "metadata": {},
   "outputs": [
    {
     "name": "stdout",
     "output_type": "stream",
     "text": [
      "程序square运行时间：1.430511474609375e-06 秒。\n"
     ]
    }
   ],
   "source": [
    "square(10)"
   ]
  },
  {
   "cell_type": "markdown",
   "id": "bd281a33",
   "metadata": {},
   "source": [
    "现在有一个问题，我们使用`fastapi`时：\n",
    "\n",
    "```python\n",
    "@app.get('/home')\n",
    "async def root():\n",
    "    pass\n",
    "```\n",
    "\n",
    "这个注解是有参数的，怎么让decorator带上参数呢？直接加一个参数看看："
   ]
  },
  {
   "cell_type": "code",
   "execution_count": 10,
   "id": "a876b119",
   "metadata": {},
   "outputs": [
    {
     "ename": "TypeError",
     "evalue": "decorator() missing 1 required positional argument: 'func'",
     "output_type": "error",
     "traceback": [
      "\u001b[31m---------------------------------------------------------------------------\u001b[39m",
      "\u001b[31mTypeError\u001b[39m                                 Traceback (most recent call last)",
      "\u001b[36mCell\u001b[39m\u001b[36m \u001b[39m\u001b[32mIn[10]\u001b[39m\u001b[32m, line 12\u001b[39m\n\u001b[32m      9\u001b[39m         \u001b[38;5;28mprint\u001b[39m(\u001b[33mf\u001b[39m\u001b[33m\"\u001b[39m\u001b[33m程序\u001b[39m\u001b[38;5;132;01m{\u001b[39;00mfunc.\u001b[34m__name__\u001b[39m\u001b[38;5;132;01m}\u001b[39;00m\u001b[33m运行时间：\u001b[39m\u001b[38;5;132;01m{\u001b[39;00mend-start\u001b[38;5;132;01m}\u001b[39;00m\u001b[33m 秒。\u001b[39m\u001b[33m\"\u001b[39m)\n\u001b[32m     10\u001b[39m     \u001b[38;5;28;01mreturn\u001b[39;00m wrapper\n\u001b[32m---> \u001b[39m\u001b[32m12\u001b[39m \u001b[38;5;129m@decorator\u001b[39m\u001b[43m(\u001b[49m\u001b[43mname\u001b[49m\u001b[43m=\u001b[49m\u001b[33;43m\"\u001b[39;49m\u001b[33;43mab\u001b[39;49m\u001b[33;43m\"\u001b[39;49m\u001b[43m)\u001b[49m\n\u001b[32m     13\u001b[39m \u001b[38;5;28;01mdef\u001b[39;00m\u001b[38;5;250m \u001b[39m\u001b[34msquare\u001b[39m(x):\n\u001b[32m     14\u001b[39m     \u001b[38;5;28;01mreturn\u001b[39;00m x * x\n",
      "\u001b[31mTypeError\u001b[39m: decorator() missing 1 required positional argument: 'func'"
     ]
    }
   ],
   "source": [
    "import time\n",
    "\n",
    "\n",
    "def decorator(func, name):\n",
    "    def wrapper(*args, **kwargs):\n",
    "        start = time.time()\n",
    "        result = func(*args, **kwargs)\n",
    "        end = time.time()\n",
    "        print(f\"程序{func.__name__}运行时间：{end-start} 秒。\")\n",
    "    return wrapper\n",
    "\n",
    "@decorator(name=\"ab\")\n",
    "def square(x):\n",
    "    return x * x"
   ]
  },
  {
   "cell_type": "markdown",
   "id": "cd668465",
   "metadata": {},
   "source": [
    "结果是不行的，方法就是再套一层："
   ]
  },
  {
   "cell_type": "code",
   "execution_count": 11,
   "id": "9a492542",
   "metadata": {},
   "outputs": [],
   "source": [
    "import functools\n",
    "\n",
    "def get(url):\n",
    "    def decorator(func):\n",
    "        # 下面这个注解只是让被装饰器的名字不变化\n",
    "        @functools.wraps(func)\n",
    "        def wrapper(*args, **kwargs):\n",
    "            start = time.time()\n",
    "            print(f\"执行URL：{url}\")\n",
    "            result = func(*args, **kwargs)\n",
    "            end = time.time()\n",
    "            print(f\"程序{func.__name__}运行时间：{end-start} 秒。\")\n",
    "        return wrapper\n",
    "    return decorator\n",
    "\n",
    "@get(\"www.example.com\")\n",
    "def square(x):\n",
    "    return x * x"
   ]
  },
  {
   "cell_type": "code",
   "execution_count": 13,
   "id": "f125c528",
   "metadata": {},
   "outputs": [
    {
     "name": "stdout",
     "output_type": "stream",
     "text": [
      "执行URL：www.example.com\n",
      "程序square运行时间：5.650520324707031e-05 秒。\n"
     ]
    }
   ],
   "source": [
    "square(5)"
   ]
  },
  {
   "cell_type": "markdown",
   "id": "f6295d94",
   "metadata": {},
   "source": [
    "\n",
    "现在是最后一个问题了，`app.get('/home')`中的`app`要根据不同对象名创建怎么做？\n",
    "\n",
    "其实这个很简单，只需要这个装饰器在一个类里面就可以了。\n",
    "\n",
    "现在让我们做一个假的`FastAPI`:"
   ]
  },
  {
   "cell_type": "code",
   "execution_count": 14,
   "id": "836cbca7",
   "metadata": {},
   "outputs": [],
   "source": [
    "\n",
    "class FastAPI():\n",
    "    def __init__(self):\n",
    "        self.routers = {}\n",
    "\n",
    "    def get(self, path:str, **kwargs):\n",
    "        def decorator(func):\n",
    "            self.routers[path] = {\n",
    "                \"method\": [\"GET\"],\n",
    "                \"func\": func,\n",
    "                **kwargs\n",
    "            }\n",
    "            return func\n",
    "        return decorator"
   ]
  },
  {
   "cell_type": "code",
   "execution_count": null,
   "id": "02c309f8",
   "metadata": {},
   "outputs": [
    {
     "data": {
      "text/plain": [
       "<function __main__.hello(name: str)>"
      ]
     },
     "execution_count": 16,
     "metadata": {},
     "output_type": "execute_result"
    }
   ],
   "source": [
    "api = FastAPI()\n",
    "\n",
    "@api.get('/hello', description='this is hello world')\n",
    "def hello(name: str):\n",
    "    return f\"Hello, {name}\"\n",
    "\n",
    "api.routers"
   ]
  },
  {
   "cell_type": "markdown",
   "id": "1fb03dbc",
   "metadata": {},
   "source": [
    "到此，装饰器就已经讲完了，事实上装饰器非常简单。\n",
    "\n",
    "当我们调用上面的装饰器来装饰函数时：\n",
    "\n",
    "等同于调用：\n",
    "\n",
    "```python\n",
    "hello = api.get('/hello', description='this is hello world')(hello)\n",
    "```\n",
    "\n",
    "最后看一下`Python`内置的装饰器`property`。\n",
    "\n",
    "### `property`属性`CRUD`装饰器\n",
    "\n",
    "作用是在不改变类的外部调用方式的前提下，为类的属性的访问、修改和删除添加对应逻辑。\n",
    "\n",
    "其应用场景包括：\n",
    "\n",
    "- 数据验证：验证数据是否正确\n",
    "- 计算属性：内部多个属性存在依赖可以自动计算\n",
    "- 权限控制：隐藏内部实现，暴露必要操作"
   ]
  },
  {
   "cell_type": "code",
   "execution_count": 3,
   "id": "d8c511da",
   "metadata": {},
   "outputs": [
    {
     "name": "stdout",
     "output_type": "stream",
     "text": [
      "20\n"
     ]
    },
    {
     "data": {
      "text/plain": [
       "-10"
      ]
     },
     "execution_count": 3,
     "metadata": {},
     "output_type": "execute_result"
    }
   ],
   "source": [
    "class Person:\n",
    "    def __init__(self, age):\n",
    "        self.age = age\n",
    "\n",
    "p = Person(20)\n",
    "print(p.age)  # 直接访问属性\n",
    "p.age = -10    # 直接修改属性\n",
    "p.age"
   ]
  },
  {
   "cell_type": "code",
   "execution_count": null,
   "id": "2aebea9f",
   "metadata": {},
   "outputs": [
    {
     "name": "stdout",
     "output_type": "stream",
     "text": [
      "20\n"
     ]
    },
    {
     "ename": "AttributeError",
     "evalue": "property 'age' of 'Person' object has no setter",
     "output_type": "error",
     "traceback": [
      "\u001b[31m---------------------------------------------------------------------------\u001b[39m",
      "\u001b[31mAttributeError\u001b[39m                            Traceback (most recent call last)",
      "\u001b[36mCell\u001b[39m\u001b[36m \u001b[39m\u001b[32mIn[4]\u001b[39m\u001b[32m, line 12\u001b[39m\n\u001b[32m     10\u001b[39m p = Person(\u001b[32m20\u001b[39m)\n\u001b[32m     11\u001b[39m \u001b[38;5;28mprint\u001b[39m(p.age)  \u001b[38;5;66;03m# 像访问属性一样调用，输出：20\u001b[39;00m\n\u001b[32m---> \u001b[39m\u001b[32m12\u001b[39m \u001b[43mp\u001b[49m\u001b[43m.\u001b[49m\u001b[43mage\u001b[49m = \u001b[32m21\u001b[39m\n",
      "\u001b[31mAttributeError\u001b[39m: property 'age' of 'Person' object has no setter"
     ]
    }
   ],
   "source": [
    "class Person:\n",
    "    def __init__(self, age):\n",
    "        self._age = age\n",
    "\n",
    "    # 用 @property 装饰，将方法转为属性\n",
    "    @property\n",
    "    def age(self):\n",
    "        return self._age\n",
    "\n",
    "p = Person(20)\n",
    "print(p.age)  # 像访问属性一样调用，输出：20\n",
    "# 只读属性，不能直接修改\n",
    "p.age = 21"
   ]
  },
  {
   "cell_type": "code",
   "execution_count": null,
   "id": "48a0223f",
   "metadata": {},
   "outputs": [
    {
     "name": "stdout",
     "output_type": "stream",
     "text": [
      "20\n",
      "25\n"
     ]
    },
    {
     "ename": "ValueError",
     "evalue": "年龄必须在 0-150 之间",
     "output_type": "error",
     "traceback": [
      "\u001b[31m---------------------------------------------------------------------------\u001b[39m",
      "\u001b[31mValueError\u001b[39m                                Traceback (most recent call last)",
      "\u001b[36mCell\u001b[39m\u001b[36m \u001b[39m\u001b[32mIn[5]\u001b[39m\u001b[32m, line 24\u001b[39m\n\u001b[32m     21\u001b[39m p.age = \u001b[32m25\u001b[39m    \u001b[38;5;66;03m# 合法修改，成功\u001b[39;00m\n\u001b[32m     22\u001b[39m \u001b[38;5;28mprint\u001b[39m(p.age)  \u001b[38;5;66;03m# 25\u001b[39;00m\n\u001b[32m---> \u001b[39m\u001b[32m24\u001b[39m \u001b[43mp\u001b[49m\u001b[43m.\u001b[49m\u001b[43mage\u001b[49m = -\u001b[32m5\u001b[39m    \u001b[38;5;66;03m# 不合法修改\u001b[39;00m\n",
      "\u001b[36mCell\u001b[39m\u001b[36m \u001b[39m\u001b[32mIn[5]\u001b[39m\u001b[32m, line 15\u001b[39m, in \u001b[36mPerson.age\u001b[39m\u001b[34m(self, value)\u001b[39m\n\u001b[32m     13\u001b[39m     \u001b[38;5;28;01mraise\u001b[39;00m \u001b[38;5;167;01mTypeError\u001b[39;00m(\u001b[33m\"\u001b[39m\u001b[33m年龄必须是整数\u001b[39m\u001b[33m\"\u001b[39m)\n\u001b[32m     14\u001b[39m \u001b[38;5;28;01mif\u001b[39;00m value < \u001b[32m0\u001b[39m \u001b[38;5;129;01mor\u001b[39;00m value > \u001b[32m150\u001b[39m:\n\u001b[32m---> \u001b[39m\u001b[32m15\u001b[39m     \u001b[38;5;28;01mraise\u001b[39;00m \u001b[38;5;167;01mValueError\u001b[39;00m(\u001b[33m\"\u001b[39m\u001b[33m年龄必须在 0-150 之间\u001b[39m\u001b[33m\"\u001b[39m)\n\u001b[32m     16\u001b[39m \u001b[38;5;28mself\u001b[39m._age = value\n",
      "\u001b[31mValueError\u001b[39m: 年龄必须在 0-150 之间"
     ]
    }
   ],
   "source": [
    "class Person:\n",
    "    def __init__(self, age):\n",
    "        self._age = age  # 存储实际值\n",
    "\n",
    "    @property\n",
    "    def age(self):\n",
    "        return self._age  # 读取逻辑\n",
    "\n",
    "    # 允许修改 age，并添加验证\n",
    "    @age.setter\n",
    "    def age(self, value):\n",
    "        if not isinstance(value, int):\n",
    "            raise TypeError(\"年龄必须是整数\")\n",
    "        if value < 0 or value > 150:\n",
    "            raise ValueError(\"年龄必须在 0-150 之间\")\n",
    "        self._age = value  # 通过验证后才更新\n",
    "\n",
    "    @age.deleter\n",
    "    def age(self):\n",
    "        # 删除之后 age 不可访问\n",
    "        del self._age\n",
    "\n",
    "\n",
    "p = Person(20)\n",
    "print(p.age)  # 20\n",
    "\n",
    "p.age = 25    # 合法修改，成功\n",
    "print(p.age)  # 25\n",
    "\n",
    "p.age = -5    # 不合法修改\n",
    "\n",
    "# del p.age"
   ]
  },
  {
   "cell_type": "markdown",
   "id": "bf1f5996",
   "metadata": {},
   "source": [
    "## `__init__.py`\n",
    "\n",
    "相信很多人都知道，导入`python`项目的的模块（文件），实际上就是执行这个文件里面的内容，但是如果导入一个`package`（目录），你就会发现啥都不会执行。\n",
    "\n",
    "如果你在`package`（目录）下增加一个`__init__.py`，导入该`package`时，就会执行`__init__.py`文件。所以`__init__.py`就是做一些包的信息、初始化工作、`package`下需要导出的符号。\n",
    "\n",
    "```python\n",
    "# 一个 __init__.py 示范 假设包名是 yourPackage\n",
    "\n",
    "# 包的版本及作者\n",
    "__version__ = ' 1.0.1'\n",
    "__author__ = 'Bob'\n",
    "\n",
    "# 假设当前包下的文件为 youModuleName.py youModuleName2.py\n",
    "from . import youModuleName  # 相对导入，\n",
    "from .youModuleName import module_symbol\n",
    "from .youModuleName2 import module_symbol_2\n",
    "\n",
    "# from yourPackage import *\n",
    "# 上述的导入就是导入 __all__ 这里面的内容\n",
    "__all__ = ['module_symbol', 'module_symbol_2']\n",
    "```\n",
    "\n",
    "同一个`package`下，要使用**相对导入**，这是因为`Python`的导入路径是系统`Path`加上当前工作目录。而相对导入是从当前`package`作为搜索目录，其中：\n",
    "\n",
    "- `.`: 当前目录\n",
    "- `..`: 上级目录\n",
    "\n",
    "> 注意：\n",
    ">\n",
    "> 目录后面不要跟`/`，如导入上级sub目录下的moduleA\n",
    "> \n",
    "> ```python\n",
    "> from ..sub import moduleA\n",
    "> ```\n",
    "> \n",
    "\n"
   ]
  },
  {
   "cell_type": "markdown",
   "id": "de609c02",
   "metadata": {},
   "source": [
    "## 枚举\n",
    "\n",
    "`python`的枚举使用起来非常简单，但是是特定场景下用起来和`rust`一样爽。"
   ]
  },
  {
   "cell_type": "code",
   "execution_count": 11,
   "id": "cc14f4e7",
   "metadata": {},
   "outputs": [
    {
     "name": "stdout",
     "output_type": "stream",
     "text": [
      "1\n",
      "---------------all-------------\n",
      "RED 1\n",
      "GREEN 2\n",
      "YELLOW 3\n"
     ]
    }
   ],
   "source": [
    "from enum import Enum, IntEnum, StrEnum\n",
    "\n",
    "class Color(IntEnum):\n",
    "    RED = 1\n",
    "    GREEN = 2\n",
    "    YELLOW = 3\n",
    "\n",
    "    @classmethod\n",
    "    def print_all(cls):\n",
    "        print('---------------all-------------')\n",
    "        for c in cls:\n",
    "            print(c.name, c.value)\n",
    "\n",
    "color = Color.RED\n",
    "print(color)\n",
    "color.print_all()"
   ]
  },
  {
   "cell_type": "code",
   "execution_count": 17,
   "id": "c1f4a077",
   "metadata": {},
   "outputs": [
    {
     "name": "stdout",
     "output_type": "stream",
     "text": [
      "OK (200, 'OK')\n",
      "HttpStatus.OK\n",
      "HttpStatus.OK\n"
     ]
    },
    {
     "ename": "ValueError",
     "evalue": "(100, 'Continue') is not a valid HttpStatus",
     "output_type": "error",
     "traceback": [
      "\u001b[31m---------------------------------------------------------------------------\u001b[39m",
      "\u001b[31mValueError\u001b[39m                                Traceback (most recent call last)",
      "\u001b[36mCell\u001b[39m\u001b[36m \u001b[39m\u001b[32mIn[17]\u001b[39m\u001b[32m, line 19\u001b[39m\n\u001b[32m     16\u001b[39m \u001b[38;5;28mprint\u001b[39m(status)\n\u001b[32m     18\u001b[39m \u001b[38;5;66;03m# 没在枚举中定义的值都会抛出异常\u001b[39;00m\n\u001b[32m---> \u001b[39m\u001b[32m19\u001b[39m status = \u001b[43mHttpStatus\u001b[49m\u001b[43m(\u001b[49m\u001b[32;43m100\u001b[39;49m\u001b[43m,\u001b[49m\u001b[43m \u001b[49m\u001b[33;43m'\u001b[39;49m\u001b[33;43mContinue\u001b[39;49m\u001b[33;43m'\u001b[39;49m\u001b[43m)\u001b[49m\n\u001b[32m     20\u001b[39m \u001b[38;5;28mprint\u001b[39m(status)\n",
      "\u001b[36mFile \u001b[39m\u001b[32md:\\Program Files\\Python\\Lib\\enum.py:726\u001b[39m, in \u001b[36mEnumType.__call__\u001b[39m\u001b[34m(cls, value, names, module, qualname, type, start, boundary, *values)\u001b[39m\n\u001b[32m    724\u001b[39m     \u001b[38;5;28;01mif\u001b[39;00m names \u001b[38;5;129;01mis\u001b[39;00m \u001b[38;5;129;01mnot\u001b[39;00m _not_given:\n\u001b[32m    725\u001b[39m         value = (value, names) + values\n\u001b[32m--> \u001b[39m\u001b[32m726\u001b[39m     \u001b[38;5;28;01mreturn\u001b[39;00m \u001b[38;5;28;43mcls\u001b[39;49m\u001b[43m.\u001b[49m\u001b[34;43m__new__\u001b[39;49m\u001b[43m(\u001b[49m\u001b[38;5;28;43mcls\u001b[39;49m\u001b[43m,\u001b[49m\u001b[43m \u001b[49m\u001b[43mvalue\u001b[49m\u001b[43m)\u001b[49m\n\u001b[32m    727\u001b[39m \u001b[38;5;66;03m# otherwise, functional API: we're creating a new Enum type\u001b[39;00m\n\u001b[32m    728\u001b[39m \u001b[38;5;28;01mif\u001b[39;00m names \u001b[38;5;129;01mis\u001b[39;00m _not_given \u001b[38;5;129;01mand\u001b[39;00m \u001b[38;5;28mtype\u001b[39m \u001b[38;5;129;01mis\u001b[39;00m \u001b[38;5;28;01mNone\u001b[39;00m:\n\u001b[32m    729\u001b[39m     \u001b[38;5;66;03m# no body? no data-type? possibly wrong usage\u001b[39;00m\n",
      "\u001b[36mFile \u001b[39m\u001b[32md:\\Program Files\\Python\\Lib\\enum.py:1201\u001b[39m, in \u001b[36mEnum.__new__\u001b[39m\u001b[34m(cls, value)\u001b[39m\n\u001b[32m   1199\u001b[39m ve_exc = \u001b[38;5;167;01mValueError\u001b[39;00m(\u001b[33m\"\u001b[39m\u001b[38;5;132;01m%r\u001b[39;00m\u001b[33m is not a valid \u001b[39m\u001b[38;5;132;01m%s\u001b[39;00m\u001b[33m\"\u001b[39m % (value, \u001b[38;5;28mcls\u001b[39m.\u001b[34m__qualname__\u001b[39m))\n\u001b[32m   1200\u001b[39m \u001b[38;5;28;01mif\u001b[39;00m result \u001b[38;5;129;01mis\u001b[39;00m \u001b[38;5;28;01mNone\u001b[39;00m \u001b[38;5;129;01mand\u001b[39;00m exc \u001b[38;5;129;01mis\u001b[39;00m \u001b[38;5;28;01mNone\u001b[39;00m:\n\u001b[32m-> \u001b[39m\u001b[32m1201\u001b[39m     \u001b[38;5;28;01mraise\u001b[39;00m ve_exc\n\u001b[32m   1202\u001b[39m \u001b[38;5;28;01melif\u001b[39;00m exc \u001b[38;5;129;01mis\u001b[39;00m \u001b[38;5;28;01mNone\u001b[39;00m:\n\u001b[32m   1203\u001b[39m     exc = \u001b[38;5;167;01mTypeError\u001b[39;00m(\n\u001b[32m   1204\u001b[39m             \u001b[33m'\u001b[39m\u001b[33merror in \u001b[39m\u001b[38;5;132;01m%s\u001b[39;00m\u001b[33m._missing_: returned \u001b[39m\u001b[38;5;132;01m%r\u001b[39;00m\u001b[33m instead of None or a valid member\u001b[39m\u001b[33m'\u001b[39m\n\u001b[32m   1205\u001b[39m             % (\u001b[38;5;28mcls\u001b[39m.\u001b[34m__name__\u001b[39m, result)\n\u001b[32m   1206\u001b[39m             )\n",
      "\u001b[31mValueError\u001b[39m: (100, 'Continue') is not a valid HttpStatus"
     ]
    }
   ],
   "source": [
    "\n",
    "class HttpStatus(Enum):\n",
    "    def __new__(cls, code: int, msg: str):\n",
    "        member = object.__new__(cls)\n",
    "        member._value_ = (code, msg)\n",
    "        return member\n",
    "\n",
    "    OK = 200, 'OK'\n",
    "    NOT_FOUND = 404, 'NOT_FOUND'\n",
    "\n",
    "print(HttpStatus.OK.name, HttpStatus.OK.value)\n",
    "\n",
    "status = HttpStatus.OK\n",
    "print(status)\n",
    "# 和上面的方式是等价的\n",
    "status = HttpStatus(200, 'OK')\n",
    "print(status)\n",
    "\n",
    "# 没在枚举中定义的值都会抛出异常\n",
    "status = HttpStatus(100, 'Continue')\n",
    "print(status)"
   ]
  },
  {
   "cell_type": "code",
   "execution_count": null,
   "id": "1aaabc6d",
   "metadata": {},
   "outputs": [],
   "source": []
  }
 ],
 "metadata": {
  "kernelspec": {
   "display_name": "Python 3",
   "language": "python",
   "name": "python3"
  },
  "language_info": {
   "codemirror_mode": {
    "name": "ipython",
    "version": 3
   },
   "file_extension": ".py",
   "mimetype": "text/x-python",
   "name": "python",
   "nbconvert_exporter": "python",
   "pygments_lexer": "ipython3",
   "version": "3.13.3"
  }
 },
 "nbformat": 4,
 "nbformat_minor": 5
}
